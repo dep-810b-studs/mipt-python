{
 "cells": [
  {
   "attachments": {
    "image.png": {
     "image/png": "[encoded data removed]"
    }
   },
   "cell_type": "markdown",
   "metadata": {},
   "source": [
    "### `Проблема быстродействия python`\n",
    "Главным недостатком языка python принято считать его скорость. Разгонять python с переменным успехом стали чуть ли не с первых дней его существования: shedskin, psyco, unladen shallow, parakeet, theano, nuitka, pythran, cython, pypy, numba.\n",
    "\n",
    "__Наиболее востребованные инструменты ускорения работы языка:__\n",
    "- Cython (не путать с cpython). \n",
    "- pypy\n",
    "- numba\n",
    "\n",
    "__Cython__:\n",
    "- довольно сильно отличается семантически от обычного python\n",
    "- некий гибрид c и python \n",
    "\n",
    "__Pypy__:\n",
    "- альтернативная реализация транслятора python с использованием jit-компиляции\n",
    "- поддержка всех конструкций python\n",
    "\n",
    "__Numba__:\n",
    "- библиотека для транскомпиляции кода в llvm\n",
    "- переводит подмножество кода Python и NumPy в быстрый машинный код\n",
    "- постепенно увеличивается «охват» (например, до недавнего времени не было поддержки строк, сейчас она появилась)\n",
    "\n",
    "__Почему именно Numba?__:\n",
    "-  В numba разгоняется не вся программа, а отдельные функции, это позволяет совместить высокую скорость и обратную совместимость с библиотеками, которые numba (пока) не поддерживает.\n",
    "- Numba обгоняет cython за счёт использования нативных процессорных инструкций (cython не умеет jit), а pypy – за счёт более эффективного выполнения байткода llvm.\n",
    "\n",
    "![image.png](attachment:image.png)\n",
    "\n",
    "__Полезные ссылки__:\n",
    "- https://numba.pydata.org/\n",
    "- https://github.com/numba/numba\n",
    "- https://habr.com/ru/post/484136/"
   ]
  },
  {
   "cell_type": "markdown",
   "metadata": {},
   "source": [
    "### `Введение в numba`\n",
    "\n",
    "#### `Как установить?`\n",
    "- pip install numba (при использовании pip)\n",
    "- conda install numba (при использовании conda)\n",
    "\n",
    "#### `Как использовать?`\n",
    "\n",
    "__Для ускорения функции, необходимо поместить перед ней декоратор__:\n",
    "- `@jit` -  в этом режиме можно использовать неподдерживаемые нумбой операции: нумба на большой скорости доходит до первой такой операции, затем замедляется, и до конца функции исполнение продолжается с обычной питоновской скоростью, даже если больше в функции ничего «запретного» не встречается (т.н. object mode), что, очевидно, нерационально.\n",
    "- `@njit`(или `@jit(nopython=True)`) - в этом режиме нумба ругается исключениями на такие места – всё равно лучше их переписать, чтобы не потерять в скорости."
   ]
  },
  {
   "cell_type": "markdown",
   "metadata": {},
   "source": [
    "### `Сравнение numba и обычного кода`:"
   ]
  },
  {
   "cell_type": "code",
   "execution_count": 5,
   "metadata": {},
   "outputs": [],
   "source": [
    "def timed(method):\n",
    "    import time\n",
    "    def __timed(*args, **kw):\n",
    "        time_start = time.time()\n",
    "        result = method(*args, **kw)\n",
    "        time_end = time.time()\n",
    "        \n",
    "        print('{}  {:.3f} ms\\n'.format(method.__name__,\n",
    "                                      (time_end - time_start) * 1000))\n",
    "        return result\n",
    "\n",
    "    return __timed"
   ]
  },
  {
   "cell_type": "code",
   "execution_count": 16,
   "metadata": {},
   "outputs": [
    {
     "name": "stdout",
     "output_type": "stream",
     "text": [
      "monte_carlo_pi_without_numba  73.997 ms\n",
      "\n",
      "monte_carlo_pi_using_numba  1005.993 ms\n",
      "\n"
     ]
    },
    {
     "data": {
      "text/plain": [
       "3.15112"
      ]
     },
     "execution_count": 16,
     "metadata": {},
     "output_type": "execute_result"
    }
   ],
   "source": [
    "from numba import jit\n",
    "import random\n",
    "\n",
    "@timed\n",
    "def monte_carlo_pi_without_numba(nsamples):\n",
    "    acc = 0\n",
    "    for i in range(nsamples):\n",
    "        x = random.random()\n",
    "        y = random.random()\n",
    "        if (x ** 2 + y ** 2) < 1.0:\n",
    "            acc += 1\n",
    "    return 4.0 * acc / nsamples\n",
    "\n",
    "@timed\n",
    "@jit(nopython=True)\n",
    "def monte_carlo_pi_using_numba(nsamples):\n",
    "    acc = 0\n",
    "    for i in range(nsamples):\n",
    "        x = random.random()\n",
    "        y = random.random()\n",
    "        if (x ** 2 + y ** 2) < 1.0:\n",
    "            acc += 1\n",
    "    return 4.0 * acc / nsamples\n",
    "\n",
    "monte_carlo_pi_without_numba(100000)\n",
    "monte_carlo_pi_using_numba(100000)"
   ]
  },
  {
   "cell_type": "markdown",
   "metadata": {},
   "source": [
    "__Почему в данном случае код с numba работал дольше?__:\n",
    "- перед запуском метода в первый раз происходит его компиляция\n",
    "- также компиляция происходит при первом запуске метода с параметрами другого типа\n",
    "\n",
    "__Как этого избегать? Три варианта:__\n",
    "- \"Прогревать кэш\" - перед использовнием метода прогнать его вхолостую, то есть передать в метод наименьший возможный объем данных\n",
    "- Указывать аргумент @jit(cache=True) для сохранения скомпилированного кода на диск с автоматической его загрузкой при последующих запусках программы\n",
    "- Явно задать сигнатуру метода (этот последний способ не future-safe. Авторы numba предупреждают о том, что синтаксис указания типов может измениться в будущем, @jit/@njit без сигнатур – более безопасный в этом плане вариант)."
   ]
  },
  {
   "cell_type": "code",
   "execution_count": 17,
   "metadata": {},
   "outputs": [
    {
     "name": "stdout",
     "output_type": "stream",
     "text": [
      "monte_carlo_pi_without_numba  65.999 ms\n",
      "\n",
      "monte_carlo_pi_using_numba_with_cache  170.003 ms\n",
      "\n"
     ]
    },
    {
     "data": {
      "text/plain": [
       "3.13752"
      ]
     },
     "execution_count": 17,
     "metadata": {},
     "output_type": "execute_result"
    }
   ],
   "source": [
    "@timed\n",
    "@jit(cache=True, nopython=True)\n",
    "def monte_carlo_pi_using_numba_with_cache(nsamples):\n",
    "    acc = 0\n",
    "    for i in range(nsamples):\n",
    "        x = random.random()\n",
    "        y = random.random()\n",
    "        if (x ** 2 + y ** 2) < 1.0:\n",
    "            acc += 1\n",
    "    return 4.0 * acc / nsamples\n",
    "\n",
    "monte_carlo_pi_without_numba(100000)\n",
    "monte_carlo_pi_using_numba_with_cache(100000)"
   ]
  },
  {
   "cell_type": "code",
   "execution_count": 22,
   "metadata": {},
   "outputs": [],
   "source": [
    "from numba import njit\n",
    "\n",
    "@timed\n",
    "@njit(\"double(int32)\")\n",
    "def monte_carlo_pi_using_numba_with_signature(nsamples):\n",
    "    acc = 0\n",
    "    for i in range(nsamples):\n",
    "        x = random.random()\n",
    "        y = random.random()\n",
    "        if (x ** 2 + y ** 2) < 1.0:\n",
    "            acc += 1\n",
    "    return 4.0 * acc / nsamples"
   ]
  },
  {
   "cell_type": "code",
   "execution_count": 19,
   "metadata": {},
   "outputs": [
    {
     "name": "stdout",
     "output_type": "stream",
     "text": [
      "monte_carlo_pi_without_numba  142.522 ms\n",
      "\n",
      "monte_carlo_pi_using_numba  2.000 ms\n",
      "\n",
      "monte_carlo_pi_using_numba_with_signature  1.999 ms\n",
      "\n",
      "monte_carlo_pi_using_numba_with_cache  1.999 ms\n",
      "\n"
     ]
    },
    {
     "data": {
      "text/plain": [
       "3.14252"
      ]
     },
     "execution_count": 19,
     "metadata": {},
     "output_type": "execute_result"
    }
   ],
   "source": [
    "monte_carlo_pi_without_numba(100000)\n",
    "monte_carlo_pi_using_numba(100000)\n",
    "monte_carlo_pi_using_numba_with_signature(100000)\n",
    "monte_carlo_pi_using_numba_with_cache(100000)"
   ]
  },
  {
   "cell_type": "markdown",
   "metadata": {},
   "source": [
    "Как можно заметить, каждый способ дает выигрыш в несколько десятков раз по сравнению с обычным python."
   ]
  },
  {
   "cell_type": "markdown",
   "metadata": {},
   "source": [
    "### `Параллельность в numba:`\n",
    "С декоратором @njit(parallel=True) нумба анализирует код разгоняемой функции, находит такие участки, каждый из которых самого по себе распараллелить невозможно, и выполняет их одновременно на разных ядрах CPU(https://numba.pydata.org/numba-doc/dev/user/parallel.html).\n"
   ]
  },
  {
   "cell_type": "code",
   "execution_count": null,
   "metadata": {},
   "outputs": [],
   "source": []
  }
 ],
 "metadata": {
  "kernelspec": {
   "display_name": "Python 3",
   "language": "python",
   "name": "python3"
  },
  "language_info": {
   "codemirror_mode": {
    "name": "ipython",
    "version": 3
   },
   "file_extension": ".py",
   "mimetype": "text/x-python",
   "name": "python",
   "nbconvert_exporter": "python",
   "pygments_lexer": "ipython3",
   "version": "3.7.5"
  }
 },
 "nbformat": 4,
 "nbformat_minor": 4
}
